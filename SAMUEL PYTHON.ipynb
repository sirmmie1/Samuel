{
 "cells": [
  {
   "cell_type": "markdown",
   "id": "c6f23bd1-b5d5-4f5e-abb3-60e2087c8023",
   "metadata": {},
   "source": [
    "# Variable"
   ]
  },
  {
   "cell_type": "markdown",
   "id": "4ed3fe19-dfb5-4663-96b3-e67be60c822c",
   "metadata": {},
   "source": [
    "# How to assign variables"
   ]
  },
  {
   "cell_type": "code",
   "execution_count": 3,
   "id": "1fa9c4d0-ec5e-441c-82af-68e5e910bc18",
   "metadata": {},
   "outputs": [
    {
     "name": "stdout",
     "output_type": "stream",
     "text": [
      "22\n"
     ]
    }
   ],
   "source": [
    "x=22\n",
    "print(x)"
   ]
  },
  {
   "cell_type": "code",
   "execution_count": 46,
   "id": "e2c1b5ae-5b70-4fb5-8653-3db6fde506c7",
   "metadata": {},
   "outputs": [
    {
     "name": "stdout",
     "output_type": "stream",
     "text": [
      "220\n"
     ]
    }
   ],
   "source": [
    "x=22\n",
    "print(x*10)"
   ]
  },
  {
   "cell_type": "code",
   "execution_count": 47,
   "id": "d7501490-ee40-48e2-af51-1cf4cf8083cb",
   "metadata": {},
   "outputs": [
    {
     "name": "stdout",
     "output_type": "stream",
     "text": [
      "11.0\n"
     ]
    }
   ],
   "source": [
    "x=22\n",
    "print(x/2)"
   ]
  },
  {
   "cell_type": "code",
   "execution_count": 48,
   "id": "b1406ae7-b7d4-4652-a924-11c67ce4bf40",
   "metadata": {},
   "outputs": [
    {
     "name": "stdout",
     "output_type": "stream",
     "text": [
      "32\n"
     ]
    }
   ],
   "source": [
    "x=22\n",
    "print(x+10)"
   ]
  },
  {
   "cell_type": "code",
   "execution_count": 5,
   "id": "472b5757-c424-4f39-891d-22a9256680db",
   "metadata": {},
   "outputs": [
    {
     "name": "stdout",
     "output_type": "stream",
     "text": [
      "(1, 2, 3)\n"
     ]
    }
   ],
   "source": [
    "#one variables to multiple value\n",
    "\n",
    "x=(1,2,3)\n",
    "\n",
    "print(x)"
   ]
  },
  {
   "cell_type": "code",
   "execution_count": 6,
   "id": "f366fc9c-e19a-4e68-af58-6bebd026dc42",
   "metadata": {},
   "outputs": [
    {
     "name": "stdout",
     "output_type": "stream",
     "text": [
      "15\n",
      "20\n",
      "25\n"
     ]
    }
   ],
   "source": [
    "#multiple variables to multiple values\n",
    "\n",
    "x,y,z=15,20,25\n",
    "\n",
    "print(x)\n",
    "print(y)\n",
    "print(z)"
   ]
  },
  {
   "cell_type": "code",
   "execution_count": 9,
   "id": "291bcd8b-24ba-47dd-b809-a295ae13e0a5",
   "metadata": {},
   "outputs": [
    {
     "name": "stdout",
     "output_type": "stream",
     "text": [
      "15\n",
      "15\n",
      "15\n"
     ]
    }
   ],
   "source": [
    "#multiple variables to one value\n",
    "x=y=z =15\n",
    "\n",
    "print(x)\n",
    "print(y)\n",
    "print(z)"
   ]
  },
  {
   "cell_type": "code",
   "execution_count": 8,
   "id": "cd2c41d8-83ac-475d-ae6b-4cd61d20a436",
   "metadata": {},
   "outputs": [
    {
     "name": "stdout",
     "output_type": "stream",
     "text": [
      "I love strawberry\n"
     ]
    }
   ],
   "source": [
    "x= 'I love strawberry'\n",
    "\n",
    "print(x)"
   ]
  },
  {
   "cell_type": "code",
   "execution_count": 10,
   "id": "b8081617-4bd3-4e14-b5c8-8f75a2b95fb4",
   "metadata": {},
   "outputs": [
    {
     "name": "stdout",
     "output_type": "stream",
     "text": [
      "I\n",
      "love\n",
      "strawberry\n"
     ]
    }
   ],
   "source": [
    "x= 'I'\n",
    "y= 'love'\n",
    "z= 'strawberry'\n",
    "\n",
    "print(x)\n",
    "print(y)\n",
    "print(z)"
   ]
  },
  {
   "cell_type": "code",
   "execution_count": 14,
   "id": "8f4bc343-c698-49f6-94ba-04f25cc840b5",
   "metadata": {},
   "outputs": [
    {
     "name": "stdout",
     "output_type": "stream",
     "text": [
      "house\n"
     ]
    }
   ],
   "source": [
    "#overriding variables\n",
    "x='name'\n",
    "\n",
    "x='house'\n",
    "print(x)"
   ]
  },
  {
   "cell_type": "markdown",
   "id": "c9faf4dd-66a2-4f68-911d-0d18525d504e",
   "metadata": {},
   "source": [
    "# Do's and Dont's in naming variables"
   ]
  },
  {
   "cell_type": "code",
   "execution_count": 15,
   "id": "2c93a8b5-769b-4683-83bd-39a34e71fcc5",
   "metadata": {},
   "outputs": [
    {
     "name": "stdout",
     "output_type": "stream",
     "text": [
      "20\n"
     ]
    }
   ],
   "source": [
    "#Do's\n",
    "\n",
    "#Methods of writing variable names\n",
    "#carmel case: starts with lower letter whereby using capital letter inbetween\n",
    "\n",
    "leamStudentClass= 20\n",
    "\n",
    "print(leamStudentClass)"
   ]
  },
  {
   "cell_type": "code",
   "execution_count": 16,
   "id": "083691df-7217-4ee8-9845-8cfe569fe26b",
   "metadata": {},
   "outputs": [
    {
     "name": "stdout",
     "output_type": "stream",
     "text": [
      "excellent\n"
     ]
    }
   ],
   "source": [
    "#pascal case: similar to carmel case but starts with capital letter then using small letter althrough\n",
    "\n",
    "Leamstudentclass= 'excellent'\n",
    "\n",
    "print(Leamstudentclass)"
   ]
  },
  {
   "cell_type": "code",
   "execution_count": 19,
   "id": "8ac9f686-e4c0-4148-894c-1b4b409a84fb",
   "metadata": {},
   "outputs": [
    {
     "name": "stdout",
     "output_type": "stream",
     "text": [
      "impressive\n"
     ]
    }
   ],
   "source": [
    "#snake case: allows the use of underscore, not worrying about case sensitive but using underscore as separator\n",
    "\n",
    "leam_student_class= 'impressive'\n",
    "\n",
    "print(leam_student_class)"
   ]
  },
  {
   "cell_type": "code",
   "execution_count": 28,
   "id": "a7d45258-5415-4bee-b9c0-4799648bd895",
   "metadata": {},
   "outputs": [
    {
     "name": "stdout",
     "output_type": "stream",
     "text": [
      "great\n"
     ]
    }
   ],
   "source": [
    "#Can use underscore at the beginning of your variable name\n",
    "\n",
    "_leam_student='great'\n",
    "\n",
    "print(_leam_student)"
   ]
  },
  {
   "cell_type": "code",
   "execution_count": 26,
   "id": "fe1d62fc-69bf-4e9c-9293-8330b29b01b8",
   "metadata": {},
   "outputs": [
    {
     "name": "stdout",
     "output_type": "stream",
     "text": [
      "ilovechocolate\n"
     ]
    }
   ],
   "source": [
    "#Can join variables together\n",
    "\n",
    "x= 'i'\n",
    "y= 'love'\n",
    "z= 'chocolate'\n",
    "\n",
    "print(x+y+z)"
   ]
  },
  {
   "cell_type": "code",
   "execution_count": 20,
   "id": "a8fc45bc-91d1-4883-b14b-7589f9bfe39d",
   "metadata": {},
   "outputs": [
    {
     "ename": "SyntaxError",
     "evalue": "invalid decimal literal (1336079428.py, line 9)",
     "output_type": "error",
     "traceback": [
      "\u001b[1;36m  Cell \u001b[1;32mIn[20], line 9\u001b[1;36m\u001b[0m\n\u001b[1;33m    2leamstudents\u001b[0m\n\u001b[1;37m    ^\u001b[0m\n\u001b[1;31mSyntaxError\u001b[0m\u001b[1;31m:\u001b[0m invalid decimal literal\n"
     ]
    }
   ],
   "source": [
    "#Dont's\n",
    "#In naming variables, you cannot add space\n",
    "#Cannot start with numbers\n",
    "#Cannot use any characters (e.g, .), only acceptable one is underscore\n",
    "#Cannot have numbers ibetween your variables but can have numbers at the end of your variables\n",
    "#Cannot add a string and integer together\n",
    "\n",
    "leam student class=15\n",
    "2leamstudents\n",
    "leam2students"
   ]
  },
  {
   "cell_type": "code",
   "execution_count": 21,
   "id": "f911eac2-9ccb-43c2-a58a-8d6039d34ef8",
   "metadata": {},
   "outputs": [
    {
     "ename": "TypeError",
     "evalue": "can only concatenate str (not \"int\") to str",
     "output_type": "error",
     "traceback": [
      "\u001b[1;31m---------------------------------------------------------------------------\u001b[0m",
      "\u001b[1;31mTypeError\u001b[0m                                 Traceback (most recent call last)",
      "Cell \u001b[1;32mIn[21], line 1\u001b[0m\n\u001b[1;32m----> 1\u001b[0m x\u001b[38;5;241m=\u001b[39m \u001b[38;5;124m'\u001b[39m\u001b[38;5;124mToy Story\u001b[39m\u001b[38;5;124m'\u001b[39m \u001b[38;5;241m+\u001b[39m \u001b[38;5;241m2\u001b[39m\n\u001b[0;32m      3\u001b[0m \u001b[38;5;28mprint\u001b[39m(x)\n",
      "\u001b[1;31mTypeError\u001b[0m: can only concatenate str (not \"int\") to str"
     ]
    }
   ],
   "source": [
    "x= 'Toy Story' + 2\n",
    "\n",
    "print(x)"
   ]
  },
  {
   "cell_type": "code",
   "execution_count": 23,
   "id": "93b714dc-7e20-41f5-ad57-491d9f9af744",
   "metadata": {},
   "outputs": [
    {
     "name": "stdout",
     "output_type": "stream",
     "text": [
      "Toy Story moana\n"
     ]
    }
   ],
   "source": [
    "x= 'Toy Story' + ' moana'\n",
    "\n",
    "print(x)"
   ]
  },
  {
   "cell_type": "code",
   "execution_count": 24,
   "id": "bbed2ea6-c63d-4226-8d42-fa0991fa18c5",
   "metadata": {},
   "outputs": [
    {
     "name": "stdout",
     "output_type": "stream",
     "text": [
      "Toy Story.\n"
     ]
    }
   ],
   "source": [
    "x= 'Toy Story' + '.'\n",
    "\n",
    "print(x)"
   ]
  },
  {
   "cell_type": "code",
   "execution_count": 25,
   "id": "8fc752a8-4bd9-4d84-ad18-1c7c999558eb",
   "metadata": {},
   "outputs": [
    {
     "name": "stdout",
     "output_type": "stream",
     "text": [
      "35\n"
     ]
    }
   ],
   "source": [
    "x= 15+20\n",
    "\n",
    "print(x)"
   ]
  },
  {
   "cell_type": "code",
   "execution_count": 27,
   "id": "2ff73722-4025-47ba-a9ba-6eb91222928e",
   "metadata": {},
   "outputs": [
    {
     "name": "stdout",
     "output_type": "stream",
     "text": [
      "Toy Story 2\n"
     ]
    }
   ],
   "source": [
    "#Joing of intergers and strings\n",
    "\n",
    "x= 'Toy Story'\n",
    "y= 2\n",
    "\n",
    "print(x,y)"
   ]
  },
  {
   "cell_type": "code",
   "execution_count": 29,
   "id": "775e57ab-f2f0-41fa-a014-ad11114ee988",
   "metadata": {},
   "outputs": [
    {
     "name": "stdout",
     "output_type": "stream",
     "text": [
      "2Toy Story 2Moana\n"
     ]
    }
   ],
   "source": [
    "#Anything in quotation automatically becomes a string\n",
    "\n",
    "x= '2Toy Story' + ' 2Moana'\n",
    "print(x)"
   ]
  },
  {
   "cell_type": "code",
   "execution_count": null,
   "id": "1d91692c-e17e-4da5-b72a-2d03138f863d",
   "metadata": {},
   "outputs": [],
   "source": []
  },
  {
   "cell_type": "markdown",
   "id": "284520cf-89e3-44e1-b9b5-fc7237773d1d",
   "metadata": {},
   "source": [
    "# Data Types"
   ]
  },
  {
   "cell_type": "code",
   "execution_count": 32,
   "id": "827e22df-9c00-4ced-b1d3-fd6cf07810de",
   "metadata": {},
   "outputs": [
    {
     "data": {
      "text/plain": [
       "'house'"
      ]
     },
     "execution_count": 32,
     "metadata": {},
     "output_type": "execute_result"
    }
   ],
   "source": [
    "#1. String\n",
    "\n",
    "#1. Single quotation\n",
    "x='house'\n",
    "x"
   ]
  },
  {
   "cell_type": "code",
   "execution_count": 33,
   "id": "8ec97116-027e-43fa-9361-92c3a435d70b",
   "metadata": {},
   "outputs": [
    {
     "data": {
      "text/plain": [
       "'home'"
      ]
     },
     "execution_count": 33,
     "metadata": {},
     "output_type": "execute_result"
    }
   ],
   "source": [
    "#2. Double quotation\n",
    "x=\"home\"\n",
    "x"
   ]
  },
  {
   "cell_type": "code",
   "execution_count": 34,
   "id": "0fff5950-39d6-421a-aba6-96ea9caea84d",
   "metadata": {},
   "outputs": [
    {
     "ename": "SyntaxError",
     "evalue": "unterminated string literal (detected at line 1) (3436719858.py, line 1)",
     "output_type": "error",
     "traceback": [
      "\u001b[1;36m  Cell \u001b[1;32mIn[34], line 1\u001b[1;36m\u001b[0m\n\u001b[1;33m    x= 'I've always loved vanilla'\u001b[0m\n\u001b[1;37m                                 ^\u001b[0m\n\u001b[1;31mSyntaxError\u001b[0m\u001b[1;31m:\u001b[0m unterminated string literal (detected at line 1)\n"
     ]
    }
   ],
   "source": [
    "x= 'I've always loved vanilla'\n",
    "x"
   ]
  },
  {
   "cell_type": "code",
   "execution_count": 35,
   "id": "50464e5f-5dc9-4028-96b6-7e3f75aa006b",
   "metadata": {},
   "outputs": [
    {
     "data": {
      "text/plain": [
       "\"I've always loved vanilla\""
      ]
     },
     "execution_count": 35,
     "metadata": {},
     "output_type": "execute_result"
    }
   ],
   "source": [
    "x= \"I've always loved vanilla\"\n",
    "x"
   ]
  },
  {
   "cell_type": "code",
   "execution_count": 36,
   "id": "b50c21cc-ca47-4fdf-b47d-a2449b2d337c",
   "metadata": {},
   "outputs": [
    {
     "data": {
      "text/plain": [
       "'I always \"loved\" vanilla'"
      ]
     },
     "execution_count": 36,
     "metadata": {},
     "output_type": "execute_result"
    }
   ],
   "source": [
    "x= \"\"\"I always \"loved\" vanilla\"\"\"\n",
    "x"
   ]
  },
  {
   "cell_type": "code",
   "execution_count": 39,
   "id": "144fa3f9-32e6-481e-9d42-ee735e21ace9",
   "metadata": {},
   "outputs": [
    {
     "data": {
      "text/plain": [
       "\"I've always ''loved'' vanilla\""
      ]
     },
     "execution_count": 39,
     "metadata": {},
     "output_type": "execute_result"
    }
   ],
   "source": [
    "x= '''I've always ''loved'' vanilla'''\n",
    "x"
   ]
  },
  {
   "cell_type": "code",
   "execution_count": 40,
   "id": "0cc4139b-edf7-492e-830d-c561e3dddea4",
   "metadata": {},
   "outputs": [
    {
     "data": {
      "text/plain": [
       "'twinkle twinkle little star\\n    how i wonder what you are\\n    up above the world so high\\n    like a diamond in the sky\\n    '"
      ]
     },
     "execution_count": 40,
     "metadata": {},
     "output_type": "execute_result"
    }
   ],
   "source": [
    "#3. Triple quotation \n",
    "\n",
    "x= \"\"\"twinkle twinkle little star\n",
    "    how i wonder what you are\n",
    "    up above the world so high\n",
    "    like a diamond in the sky\n",
    "    \"\"\"\n",
    "\n",
    "x"
   ]
  },
  {
   "cell_type": "code",
   "execution_count": 43,
   "id": "a896a8e6-4ed0-434e-9479-3866e01d2602",
   "metadata": {},
   "outputs": [
    {
     "name": "stdout",
     "output_type": "stream",
     "text": [
      "twinkle twinkle little star\n",
      "              how i wonder what you are\n",
      "              up above the world so high\n",
      "              like a diamond in the sky\n",
      "              \n"
     ]
    }
   ],
   "source": [
    "multiline= \"\"\"twinkle twinkle little star\n",
    "              how i wonder what you are\n",
    "              up above the world so high\n",
    "              like a diamond in the sky\n",
    "              \"\"\"\n",
    "\n",
    "print(multiline)"
   ]
  },
  {
   "cell_type": "code",
   "execution_count": 44,
   "id": "7f661fbd-5b40-4577-9780-78e2eca0e987",
   "metadata": {},
   "outputs": [
    {
     "name": "stdout",
     "output_type": "stream",
     "text": [
      "homehomehomehomehome\n"
     ]
    }
   ],
   "source": [
    "x=\"home\"\n",
    "\n",
    "print(x*5)"
   ]
  },
  {
   "cell_type": "code",
   "execution_count": 45,
   "id": "6d387fd0-1151-46e5-aab9-9bbaaf522293",
   "metadata": {},
   "outputs": [
    {
     "name": "stdout",
     "output_type": "stream",
     "text": [
      "homehome\n"
     ]
    }
   ],
   "source": [
    "x=\"home\"\n",
    "\n",
    "print(x+x)"
   ]
  },
  {
   "cell_type": "code",
   "execution_count": 51,
   "id": "13ba58a3-6d15-4777-9fd1-8a11ee0ebfd6",
   "metadata": {},
   "outputs": [
    {
     "name": "stdout",
     "output_type": "stream",
     "text": [
      "impress\n"
     ]
    }
   ],
   "source": [
    "#counting the strings\n",
    "x='impressive lady'\n",
    "\n",
    "print(x[0:7])"
   ]
  },
  {
   "cell_type": "code",
   "execution_count": 52,
   "id": "a1b2aa00-9a5e-475a-9f7f-74eecdc4e562",
   "metadata": {},
   "outputs": [
    {
     "name": "stdout",
     "output_type": "stream",
     "text": [
      "a\n"
     ]
    }
   ],
   "source": [
    "#counting from the back\n",
    "x='impressive lady'\n",
    "\n",
    "print(x[-3])"
   ]
  },
  {
   "cell_type": "code",
   "execution_count": 53,
   "id": "14d299ef-51ae-4154-85eb-9f051462673a",
   "metadata": {},
   "outputs": [
    {
     "name": "stdout",
     "output_type": "stream",
     "text": [
      "ady\n"
     ]
    }
   ],
   "source": [
    "#counting from back\n",
    "x='impressive lady'\n",
    "\n",
    "print(x[-3:])"
   ]
  },
  {
   "cell_type": "code",
   "execution_count": 54,
   "id": "ca67a9fb-e02e-4761-9501-0fdfcc0d2bf7",
   "metadata": {},
   "outputs": [
    {
     "name": "stdout",
     "output_type": "stream",
     "text": [
      "impressive l\n"
     ]
    }
   ],
   "source": [
    "#counting from front\n",
    "x='impressive lady'\n",
    "\n",
    "print(x[:-3])"
   ]
  },
  {
   "cell_type": "code",
   "execution_count": null,
   "id": "d206ef44-db6a-49dc-9db7-ec539171db3b",
   "metadata": {},
   "outputs": [],
   "source": [
    "an integer can be converted to a float if the integer is in decimal place"
   ]
  },
  {
   "cell_type": "code",
   "execution_count": null,
   "id": "e65a56f4-3f64-48cf-9b4a-5f87e9c3efec",
   "metadata": {},
   "outputs": [],
   "source": [
    "# 2. Numbers\n",
    "\n",
    "1. Integer\n",
    "2. Float\n",
    "3. Complex number"
   ]
  },
  {
   "cell_type": "code",
   "execution_count": 56,
   "id": "f300953c-815b-40fa-bfdd-bfeb05691a48",
   "metadata": {},
   "outputs": [
    {
     "data": {
      "text/plain": [
       "int"
      ]
     },
     "execution_count": 56,
     "metadata": {},
     "output_type": "execute_result"
    }
   ],
   "source": [
    "x=15\n",
    "\n",
    "type(x)"
   ]
  },
  {
   "cell_type": "code",
   "execution_count": 57,
   "id": "fd9b7d98-a022-4db1-83a1-0280f71062de",
   "metadata": {},
   "outputs": [
    {
     "name": "stdout",
     "output_type": "stream",
     "text": [
      "28.666666666666668\n"
     ]
    }
   ],
   "source": [
    "y=(12+100/6)\n",
    "print(y)"
   ]
  },
  {
   "cell_type": "code",
   "execution_count": 58,
   "id": "46db8c3d-fb04-4209-8a1c-5ebaa8021473",
   "metadata": {},
   "outputs": [
    {
     "data": {
      "text/plain": [
       "float"
      ]
     },
     "execution_count": 58,
     "metadata": {},
     "output_type": "execute_result"
    }
   ],
   "source": [
    "type(y)"
   ]
  },
  {
   "cell_type": "code",
   "execution_count": 59,
   "id": "4962d363-14a8-4326-9eb9-f3e2296e4e87",
   "metadata": {},
   "outputs": [
    {
     "data": {
      "text/plain": [
       "complex"
      ]
     },
     "execution_count": 59,
     "metadata": {},
     "output_type": "execute_result"
    }
   ],
   "source": [
    "y=(12+3j)\n",
    "\n",
    "type(y)"
   ]
  },
  {
   "cell_type": "code",
   "execution_count": null,
   "id": "4c509b36-4758-4ee2-a6e9-3e7a75b1dec0",
   "metadata": {},
   "outputs": [],
   "source": [
    "complex number is used to calculate an imaginary number and it is not commonly used and j is the only alphabet that can be used with it "
   ]
  },
  {
   "cell_type": "code",
   "execution_count": 61,
   "id": "cb903b99-6f89-4b4d-96b7-afb43af6ca00",
   "metadata": {},
   "outputs": [
    {
     "data": {
      "text/plain": [
       "True"
      ]
     },
     "execution_count": 61,
     "metadata": {},
     "output_type": "execute_result"
    }
   ],
   "source": [
    "# 3. Boolean; it gives true or false statement\n",
    "\n",
    "z= (5>2)\n",
    "type(z)\n",
    "z"
   ]
  },
  {
   "cell_type": "code",
   "execution_count": 64,
   "id": "34e65bee-8eeb-4b1f-9d98-3182c61e6f22",
   "metadata": {},
   "outputs": [
    {
     "data": {
      "text/plain": [
       "False"
      ]
     },
     "execution_count": 64,
     "metadata": {},
     "output_type": "execute_result"
    }
   ],
   "source": [
    "h= 100>5000\n",
    "h"
   ]
  },
  {
   "cell_type": "code",
   "execution_count": 67,
   "id": "2840c074-c100-48ed-b5fd-8f12b32dcbdf",
   "metadata": {},
   "outputs": [
    {
     "data": {
      "text/plain": [
       "list"
      ]
     },
     "execution_count": 67,
     "metadata": {},
     "output_type": "execute_result"
    }
   ],
   "source": [
    "# 4. Lists; they are identified by square brackets, can store multiple values, they are mutable i.e can add and remove, can write different data types\n",
    "\n",
    "leam_student = [ 'blessing', 3, 4.0, 'precious', 'Samuel', True]\n",
    "type(leam_student)"
   ]
  },
  {
   "cell_type": "code",
   "execution_count": 70,
   "id": "ae9d6c49-ae79-4091-863c-71dfa965b35f",
   "metadata": {},
   "outputs": [
    {
     "data": {
      "text/plain": [
       "['blessing', 3, 4.0, 'precious', ['Jones', 'Boluwatife'], 'Samuel', True]"
      ]
     },
     "execution_count": 70,
     "metadata": {},
     "output_type": "execute_result"
    }
   ],
   "source": [
    "#You can have a list inside a list\n",
    "\n",
    "leam_student = [ 'blessing', 3, 4.0, 'precious',['Jones', 'Boluwatife'], 'Samuel', True]\n",
    "\n",
    "leam_student"
   ]
  },
  {
   "cell_type": "code",
   "execution_count": 71,
   "id": "6352e458-4939-48b1-afbc-bea1c911d924",
   "metadata": {},
   "outputs": [
    {
     "data": {
      "text/plain": [
       "4.0"
      ]
     },
     "execution_count": 71,
     "metadata": {},
     "output_type": "execute_result"
    }
   ],
   "source": [
    "leam_student[2]"
   ]
  },
  {
   "cell_type": "code",
   "execution_count": 72,
   "id": "72f55f95-2925-4919-b0b7-6fe4a3c4fcd2",
   "metadata": {},
   "outputs": [
    {
     "data": {
      "text/plain": [
       "'Boluwatife'"
      ]
     },
     "execution_count": 72,
     "metadata": {},
     "output_type": "execute_result"
    }
   ],
   "source": [
    "leam_student[4][1]"
   ]
  },
  {
   "cell_type": "code",
   "execution_count": null,
   "id": "85ea7516-4833-483d-84da-40766cddffd4",
   "metadata": {},
   "outputs": [],
   "source": [
    "# Append \n",
    "adding attribute in python i.e performing a function on the same variable, add to the list but only at the end\n",
    "\n"
   ]
  },
  {
   "cell_type": "code",
   "execution_count": 77,
   "id": "5ac5d496-e623-4bf4-b4a6-b0ce98d0d508",
   "metadata": {},
   "outputs": [
    {
     "name": "stdout",
     "output_type": "stream",
     "text": [
      "['blessing', 3, 4.0, 'precious', ['Jones', 'Boluwatife'], 'Samuel', True, 'oluwaseun']\n"
     ]
    }
   ],
   "source": [
    "leam_student.append('oluwaseun')\n",
    "\n",
    "print(leam_student)"
   ]
  },
  {
   "cell_type": "code",
   "execution_count": 87,
   "id": "b2d6952f-eb28-463c-bed0-6972bb08170e",
   "metadata": {},
   "outputs": [],
   "source": [
    "del leam_student[1]"
   ]
  },
  {
   "cell_type": "code",
   "execution_count": 88,
   "id": "6de10f93-183f-473a-9971-b2ad18e72d32",
   "metadata": {},
   "outputs": [
    {
     "name": "stdout",
     "output_type": "stream",
     "text": [
      "['blessing', 4.0, ['Jones', 'Boluwatife']]\n"
     ]
    }
   ],
   "source": [
    "print(leam_student)"
   ]
  },
  {
   "cell_type": "code",
   "execution_count": 89,
   "id": "125cfb76-7b18-4654-9699-e6fbbc7f23ce",
   "metadata": {},
   "outputs": [
    {
     "name": "stdout",
     "output_type": "stream",
     "text": [
      "['miriam', 'blessing', 4.0, ['Jones', 'Boluwatife']]\n"
     ]
    }
   ],
   "source": [
    "# Insert\n",
    "\n",
    "leam_student.insert(0, 'miriam')\n",
    "\n",
    "print(leam_student)"
   ]
  },
  {
   "cell_type": "code",
   "execution_count": 90,
   "id": "d7eae371-efa2-41b5-97bc-dbe5e1d76f2d",
   "metadata": {},
   "outputs": [
    {
     "name": "stdout",
     "output_type": "stream",
     "text": [
      "['miriam', 'blessing', 4.0, ['Jones', 'Boluwatife'], 'miriam']\n"
     ]
    }
   ],
   "source": [
    "leam_student.insert(9, 'miriam')\n",
    "\n",
    "print(leam_student)"
   ]
  },
  {
   "cell_type": "code",
   "execution_count": 91,
   "id": "31a5bf56-1553-4b00-b426-53972ce17b94",
   "metadata": {},
   "outputs": [
    {
     "name": "stdout",
     "output_type": "stream",
     "text": [
      "['emmanuel', 'blessing', 4.0, ['Jones', 'Boluwatife'], 'miriam']\n"
     ]
    }
   ],
   "source": [
    "#how to replace a string \n",
    "\n",
    "leam_student[0] = 'emmanuel'\n",
    "\n",
    "print(leam_student)"
   ]
  },
  {
   "cell_type": "code",
   "execution_count": 92,
   "id": "7f154c80-4156-49ee-b6c8-e36fa68c84f4",
   "metadata": {},
   "outputs": [
    {
     "name": "stdout",
     "output_type": "stream",
     "text": [
      "['emmanuel', 'blessing', 4.0, 'emmanuel', 'miriam']\n"
     ]
    }
   ],
   "source": [
    "leam_student[3] = 'emmanuel'\n",
    "\n",
    "print(leam_student)"
   ]
  },
  {
   "cell_type": "code",
   "execution_count": null,
   "id": "4706d3d4-5772-4003-826c-a03b31f30e3a",
   "metadata": {},
   "outputs": [],
   "source": []
  },
  {
   "cell_type": "code",
   "execution_count": 93,
   "id": "f227d348-65fe-4186-a37d-054f61c7a713",
   "metadata": {},
   "outputs": [
    {
     "data": {
      "text/plain": [
       "tuple"
      ]
     },
     "execution_count": 93,
     "metadata": {},
     "output_type": "execute_result"
    }
   ],
   "source": [
    "# 4. Tuples; it is representated using parenthesis\n",
    "\n",
    "age= (10,20,30,40)\n",
    "\n",
    "type(age)"
   ]
  },
  {
   "cell_type": "code",
   "execution_count": 94,
   "id": "2062b846-9ab1-4b2c-bcad-81bafeb1620f",
   "metadata": {},
   "outputs": [
    {
     "name": "stdout",
     "output_type": "stream",
     "text": [
      "(10, 20, 30, 40)\n"
     ]
    }
   ],
   "source": [
    "age= (10,20,30,40)\n",
    "\n",
    "print(age)"
   ]
  },
  {
   "cell_type": "code",
   "execution_count": 95,
   "id": "2143f08c-7001-4808-b587-42bc214ca52d",
   "metadata": {},
   "outputs": [
    {
     "name": "stdout",
     "output_type": "stream",
     "text": [
      "(10, 20, 30, 40, 15, 5, 8, 10)\n"
     ]
    }
   ],
   "source": [
    "size= (15,5,8,10)\n",
    "\n",
    "print(age+size)"
   ]
  },
  {
   "cell_type": "code",
   "execution_count": 97,
   "id": "0a6ea872-df87-4740-9103-dc0fe94c3d50",
   "metadata": {},
   "outputs": [
    {
     "name": "stdout",
     "output_type": "stream",
     "text": [
      "('rome', 'usa', 'canada')\n"
     ]
    }
   ],
   "source": [
    "country= ('rome', 'usa', 'canada')\n",
    "print(country)"
   ]
  },
  {
   "cell_type": "code",
   "execution_count": 98,
   "id": "726fda10-0785-4b9b-8fea-5a31ea25e33b",
   "metadata": {},
   "outputs": [
    {
     "name": "stdout",
     "output_type": "stream",
     "text": [
      "('rome', 'usa', 'canada', 'ontario', 'pennslyvania', 'atlanta', 'venice')\n"
     ]
    }
   ],
   "source": [
    "city= ('ontario', 'pennslyvania', 'atlanta', 'venice')\n",
    "\n",
    "print(country+city)"
   ]
  },
  {
   "cell_type": "code",
   "execution_count": null,
   "id": "df3f6cb6-cbdc-4db2-ba62-e777f049c8f5",
   "metadata": {},
   "outputs": [],
   "source": []
  },
  {
   "cell_type": "code",
   "execution_count": null,
   "id": "fc2fe4c5-e659-4e6d-b474-3c91634d42ea",
   "metadata": {},
   "outputs": [],
   "source": [
    "# 5. Sets \n",
    "\"\"\"represented with curly bracket, does not have duplicate element, \n",
    "values cannot be assessed using index cos its unordered, does not have position attached to it i.e mutable\"\"\""
   ]
  },
  {
   "cell_type": "code",
   "execution_count": 106,
   "id": "3d575130-e890-4ad6-ba5c-e473aa78e98f",
   "metadata": {},
   "outputs": [
    {
     "name": "stdout",
     "output_type": "stream",
     "text": [
      "{1, 2, 3, 4, 5, 8, 15, 28, 31}\n"
     ]
    }
   ],
   "source": [
    "my_daily_goal = {15, 2, 4, 5, 8,1,28,31, 3}\n",
    "\n",
    "print(my_daily_goal)"
   ]
  },
  {
   "cell_type": "code",
   "execution_count": 107,
   "id": "60c70a1b-0452-4a76-8627-dc0432cb7150",
   "metadata": {},
   "outputs": [
    {
     "data": {
      "text/plain": [
       "set"
      ]
     },
     "execution_count": 107,
     "metadata": {},
     "output_type": "execute_result"
    }
   ],
   "source": [
    "type(my_daily_goal)"
   ]
  },
  {
   "cell_type": "code",
   "execution_count": 105,
   "id": "5b4113c4-9d0e-4967-bcd5-1306c5c05ebf",
   "metadata": {},
   "outputs": [
    {
     "name": "stdout",
     "output_type": "stream",
     "text": [
      "{1, 2, 3, 4, 5, 6, 41, 21, 91, 31}\n"
     ]
    }
   ],
   "source": [
    "daily_goal= {2,1,3,4,5,6,91,21,41,31}\n",
    "\n",
    "print(daily_goal)"
   ]
  },
  {
   "cell_type": "code",
   "execution_count": 110,
   "id": "98c6b415-8d5c-4ce4-9e84-7508c49af422",
   "metadata": {},
   "outputs": [
    {
     "name": "stdout",
     "output_type": "stream",
     "text": [
      "{1, 2, 3, 4, 5, 31}\n"
     ]
    }
   ],
   "source": [
    "#bring matching numbers\n",
    "print(my_daily_goal & daily_goal)"
   ]
  },
  {
   "cell_type": "code",
   "execution_count": 111,
   "id": "51391f34-c664-4cbf-bc3a-0f45c8890665",
   "metadata": {},
   "outputs": [
    {
     "name": "stdout",
     "output_type": "stream",
     "text": [
      "{1, 2, 3, 4, 5, 6, 8, 15, 21, 91, 28, 31, 41}\n"
     ]
    }
   ],
   "source": [
    "#bring out unique values with both set\n",
    "print(my_daily_goal | daily_goal)"
   ]
  },
  {
   "cell_type": "code",
   "execution_count": 112,
   "id": "2ae39594-b07d-4928-b808-40fe50a051a1",
   "metadata": {},
   "outputs": [
    {
     "name": "stdout",
     "output_type": "stream",
     "text": [
      "{8, 28, 15}\n"
     ]
    }
   ],
   "source": [
    "#bring out only missing values in my daily goal\n",
    "print(my_daily_goal - daily_goal)"
   ]
  },
  {
   "cell_type": "code",
   "execution_count": 113,
   "id": "b51a24e0-5075-4da8-9f9c-2a4ed54778b8",
   "metadata": {},
   "outputs": [
    {
     "name": "stdout",
     "output_type": "stream",
     "text": [
      "{41, 91, 21, 6}\n"
     ]
    }
   ],
   "source": [
    "#bring out only missing values in daily goal\n",
    "print(daily_goal - my_daily_goal)"
   ]
  },
  {
   "cell_type": "code",
   "execution_count": 114,
   "id": "a86f1b7b-cf71-458c-9924-ace5d9999b77",
   "metadata": {},
   "outputs": [
    {
     "name": "stdout",
     "output_type": "stream",
     "text": [
      "{6, 8, 41, 15, 21, 91, 28}\n"
     ]
    }
   ],
   "source": [
    "#brings out unmatching values and bring them together\n",
    "print(my_daily_goal ^ daily_goal)"
   ]
  },
  {
   "cell_type": "code",
   "execution_count": null,
   "id": "48e5a284-8b8a-45a6-b5d9-5c55f77c0f1f",
   "metadata": {},
   "outputs": [],
   "source": []
  },
  {
   "cell_type": "code",
   "execution_count": 115,
   "id": "662b6d8d-e48a-46dc-98e1-8216fd3deb75",
   "metadata": {},
   "outputs": [
    {
     "name": "stdout",
     "output_type": "stream",
     "text": [
      "{'names': 'Samuel', 'age': 10, 'country': 'USA'}\n"
     ]
    }
   ],
   "source": [
    "# 6. Dictionary; also representated by curly bracket\n",
    "\n",
    "#Key-value pair\n",
    "\n",
    "leam_students= {'names': 'Samuel',\n",
    "               'age': 10,\n",
    "               'country': 'USA'\n",
    "               }\n",
    "\n",
    "print(leam_students)"
   ]
  },
  {
   "cell_type": "code",
   "execution_count": 116,
   "id": "d6023378-0bf7-450b-80ea-2999d79064ad",
   "metadata": {},
   "outputs": [
    {
     "data": {
      "text/plain": [
       "dict_values(['Samuel', 10, 'USA'])"
      ]
     },
     "execution_count": 116,
     "metadata": {},
     "output_type": "execute_result"
    }
   ],
   "source": [
    "leam_students.values()"
   ]
  },
  {
   "cell_type": "code",
   "execution_count": 117,
   "id": "21d4a5df-423b-44f2-9263-c3db9acadd35",
   "metadata": {},
   "outputs": [
    {
     "data": {
      "text/plain": [
       "dict_keys(['names', 'age', 'country'])"
      ]
     },
     "execution_count": 117,
     "metadata": {},
     "output_type": "execute_result"
    }
   ],
   "source": [
    "leam_students.keys()"
   ]
  },
  {
   "cell_type": "code",
   "execution_count": 119,
   "id": "74cfdf82-2788-4079-a957-a02076487406",
   "metadata": {},
   "outputs": [
    {
     "data": {
      "text/plain": [
       "dict_items([('names', 'Samuel'), ('age', 10), ('country', 'USA')])"
      ]
     },
     "execution_count": 119,
     "metadata": {},
     "output_type": "execute_result"
    }
   ],
   "source": [
    "leam_students.items()"
   ]
  },
  {
   "cell_type": "code",
   "execution_count": 121,
   "id": "32af4531-5ef9-44fa-aa33-0db3fa8adce1",
   "metadata": {},
   "outputs": [
    {
     "name": "stdout",
     "output_type": "stream",
     "text": [
      "{'names': 'Samuel', 'age': 10, 'country': 'UK'}\n"
     ]
    }
   ],
   "source": [
    "#To update in dictionary for just one value\n",
    "leam_students['country'] = 'UK'\n",
    "\n",
    "print(leam_students)"
   ]
  },
  {
   "cell_type": "code",
   "execution_count": 123,
   "id": "50a156ff-99da-4c59-98e6-a6270e3e6902",
   "metadata": {},
   "outputs": [],
   "source": [
    "#To update in dictionary for just all value\n",
    "\n",
    "leam_students.update({'names': 'Blessing', 'age': 20, 'country': 'ROME'})"
   ]
  },
  {
   "cell_type": "code",
   "execution_count": 124,
   "id": "a4b8716b-fcef-45cf-b113-a11f2704450e",
   "metadata": {},
   "outputs": [
    {
     "name": "stdout",
     "output_type": "stream",
     "text": [
      "{'names': 'Blessing', 'age': 20, 'country': 'ROME'}\n"
     ]
    }
   ],
   "source": [
    "print(leam_students)"
   ]
  },
  {
   "cell_type": "code",
   "execution_count": null,
   "id": "dda3f348-c053-41c3-8a95-1b90e7531b65",
   "metadata": {},
   "outputs": [],
   "source": []
  },
  {
   "cell_type": "code",
   "execution_count": null,
   "id": "508bc62f-3d52-4c84-93d4-beb8e1f64a1d",
   "metadata": {},
   "outputs": [],
   "source": []
  },
  {
   "cell_type": "code",
   "execution_count": null,
   "id": "fdf42f0e-fc2c-4ba8-b097-8af25f1cd2bf",
   "metadata": {},
   "outputs": [],
   "source": []
  },
  {
   "cell_type": "code",
   "execution_count": null,
   "id": "9c3219f1-784c-4000-9050-f9cbe62d1bd0",
   "metadata": {},
   "outputs": [],
   "source": []
  },
  {
   "cell_type": "code",
   "execution_count": null,
   "id": "8040346d-dd33-4405-9ef9-9073a6483407",
   "metadata": {},
   "outputs": [],
   "source": []
  },
  {
   "cell_type": "code",
   "execution_count": null,
   "id": "1cc26597-6a45-49fd-9d86-48cd411b6b28",
   "metadata": {},
   "outputs": [],
   "source": []
  },
  {
   "cell_type": "code",
   "execution_count": null,
   "id": "0a35a91e-8066-49ce-ae57-044a87919dad",
   "metadata": {},
   "outputs": [],
   "source": []
  },
  {
   "cell_type": "code",
   "execution_count": null,
   "id": "90a0cdff-4c9d-40a0-be8c-5fe60e9c2409",
   "metadata": {},
   "outputs": [],
   "source": []
  },
  {
   "cell_type": "code",
   "execution_count": null,
   "id": "af56a97f-34fc-4569-a65f-9e88113cdc31",
   "metadata": {},
   "outputs": [],
   "source": []
  },
  {
   "cell_type": "code",
   "execution_count": null,
   "id": "868c319a-842e-4e86-8c8c-6aed94b30806",
   "metadata": {},
   "outputs": [],
   "source": []
  },
  {
   "cell_type": "code",
   "execution_count": null,
   "id": "6ad5cd00-b66e-4255-8282-1b6e35cb7a66",
   "metadata": {},
   "outputs": [],
   "source": []
  },
  {
   "cell_type": "code",
   "execution_count": null,
   "id": "70dc04c7-7f73-4ca5-811f-273f2388cbb7",
   "metadata": {},
   "outputs": [],
   "source": []
  },
  {
   "cell_type": "code",
   "execution_count": null,
   "id": "51aee86b-852c-4837-808f-27a35bc025ca",
   "metadata": {},
   "outputs": [],
   "source": []
  }
 ],
 "metadata": {
  "kernelspec": {
   "display_name": "Python 3 (ipykernel)",
   "language": "python",
   "name": "python3"
  },
  "language_info": {
   "codemirror_mode": {
    "name": "ipython",
    "version": 3
   },
   "file_extension": ".py",
   "mimetype": "text/x-python",
   "name": "python",
   "nbconvert_exporter": "python",
   "pygments_lexer": "ipython3",
   "version": "3.12.7"
  }
 },
 "nbformat": 4,
 "nbformat_minor": 5
}
